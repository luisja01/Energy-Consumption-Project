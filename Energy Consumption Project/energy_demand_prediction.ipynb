{
 "cells": [
  {
   "cell_type": "markdown",
   "id": "81ca2177-a708-499c-9ea9-1c45313f1273",
   "metadata": {},
   "source": [
    " # Energy Demand Prediction Using Advanced Time Series Methods\n",
    "Energy consumption varies due to multiple factors: seasonality, day of the week, peak usage patterns, weather conditions, and more. Accurately forecasting future energy demand is essential to:\n",
    "\n",
    "* Plan energy production and distribution.\n",
    "* Stabilize the power grid and avoid unexpected peaks (blackouts or extra costs).\n",
    "* Reduce carbon footprint by integrating renewable energy sources more efficiently and minimizing the use of pollutant sources.\n",
    "\n",
    "**Main Objective**  \n",
    "Develop one or more predictive models that can estimate future energy demand (e.g., for the following hours or days) with high accuracy\n",
    "\n",
    "## Data Source \n",
    "\n",
    "- Electricity Load Diagrams 2011-2014 (UCI Machine Learning Repository)\n",
    "- Source link: https://archive.ics.uci.edu/dataset/321/electricityloaddiagrams20112014\n",
    "- Contains hourly electricity consumption data of 370 customers in Portugal, from 2011 to 2014.\n"
   ]
  },
  {
   "cell_type": "markdown",
   "id": "2bc25046-7ab3-4b6c-956e-85191dc5126a",
   "metadata": {},
   "source": [
    "## Library Imports"
   ]
  },
  {
   "cell_type": "code",
   "execution_count": 22,
   "id": "0e740922-5980-4da6-908d-bb2e7d1d39ec",
   "metadata": {},
   "outputs": [],
   "source": [
    "# General libraries\n",
    "import numpy as np\n",
    "import pandas as pd\n",
    "import matplotlib.pyplot as plt\n",
    "import seaborn as sns\n",
    "%matplotlib inline\n",
    "\n",
    "# For handling dates\n",
    "import datetime\n",
    "\n",
    "# For modeling\n",
    "from sklearn.model_selection import train_test_split, TimeSeriesSplit, GridSearchCV\n",
    "from sklearn.metrics import mean_absolute_error, mean_squared_error\n",
    "\n",
    "# Models\n",
    "from xgboost import XGBRegressor\n",
    "\n",
    "# Deep Learning (LSTM)\n",
    "import tensorflow as tf\n",
    "from tensorflow.keras.models import Sequential\n",
    "from tensorflow.keras.layers import LSTM, Dense, Dropout\n",
    "\n",
    "# For interpretability\n",
    "import shap\n"
   ]
  },
  {
   "cell_type": "markdown",
   "id": "b1e75cfc-48fd-4f50-ad9b-938e31d838de",
   "metadata": {},
   "source": [
    "## Data Loading  \n",
    "Placed dataset in a local directory called data/LD2011_2014.txt"
   ]
  },
  {
   "cell_type": "code",
   "execution_count": 25,
   "id": "d91f7c6f-86ad-45f6-aaa7-9b2cdc06b2dc",
   "metadata": {},
   "outputs": [
    {
     "name": "stdout",
     "output_type": "stream",
     "text": [
      "(140256, 370)\n"
     ]
    },
    {
     "data": {
      "text/html": [
       "<div>\n",
       "<style scoped>\n",
       "    .dataframe tbody tr th:only-of-type {\n",
       "        vertical-align: middle;\n",
       "    }\n",
       "\n",
       "    .dataframe tbody tr th {\n",
       "        vertical-align: top;\n",
       "    }\n",
       "\n",
       "    .dataframe thead th {\n",
       "        text-align: right;\n",
       "    }\n",
       "</style>\n",
       "<table border=\"1\" class=\"dataframe\">\n",
       "  <thead>\n",
       "    <tr style=\"text-align: right;\">\n",
       "      <th></th>\n",
       "      <th>MT_001</th>\n",
       "      <th>MT_002</th>\n",
       "      <th>MT_003</th>\n",
       "      <th>MT_004</th>\n",
       "      <th>MT_005</th>\n",
       "      <th>MT_006</th>\n",
       "      <th>MT_007</th>\n",
       "      <th>MT_008</th>\n",
       "      <th>MT_009</th>\n",
       "      <th>MT_010</th>\n",
       "      <th>...</th>\n",
       "      <th>MT_361</th>\n",
       "      <th>MT_362</th>\n",
       "      <th>MT_363</th>\n",
       "      <th>MT_364</th>\n",
       "      <th>MT_365</th>\n",
       "      <th>MT_366</th>\n",
       "      <th>MT_367</th>\n",
       "      <th>MT_368</th>\n",
       "      <th>MT_369</th>\n",
       "      <th>MT_370</th>\n",
       "    </tr>\n",
       "  </thead>\n",
       "  <tbody>\n",
       "    <tr>\n",
       "      <th>2011-01-01 00:15:00</th>\n",
       "      <td>0.0</td>\n",
       "      <td>0.0</td>\n",
       "      <td>0.0</td>\n",
       "      <td>0.0</td>\n",
       "      <td>0.0</td>\n",
       "      <td>0.0</td>\n",
       "      <td>0.0</td>\n",
       "      <td>0.0</td>\n",
       "      <td>0.0</td>\n",
       "      <td>0.0</td>\n",
       "      <td>...</td>\n",
       "      <td>0.0</td>\n",
       "      <td>0.0</td>\n",
       "      <td>0.0</td>\n",
       "      <td>0.0</td>\n",
       "      <td>0.0</td>\n",
       "      <td>0.0</td>\n",
       "      <td>0.0</td>\n",
       "      <td>0.0</td>\n",
       "      <td>0.0</td>\n",
       "      <td>0.0</td>\n",
       "    </tr>\n",
       "    <tr>\n",
       "      <th>2011-01-01 00:30:00</th>\n",
       "      <td>0.0</td>\n",
       "      <td>0.0</td>\n",
       "      <td>0.0</td>\n",
       "      <td>0.0</td>\n",
       "      <td>0.0</td>\n",
       "      <td>0.0</td>\n",
       "      <td>0.0</td>\n",
       "      <td>0.0</td>\n",
       "      <td>0.0</td>\n",
       "      <td>0.0</td>\n",
       "      <td>...</td>\n",
       "      <td>0.0</td>\n",
       "      <td>0.0</td>\n",
       "      <td>0.0</td>\n",
       "      <td>0.0</td>\n",
       "      <td>0.0</td>\n",
       "      <td>0.0</td>\n",
       "      <td>0.0</td>\n",
       "      <td>0.0</td>\n",
       "      <td>0.0</td>\n",
       "      <td>0.0</td>\n",
       "    </tr>\n",
       "    <tr>\n",
       "      <th>2011-01-01 00:45:00</th>\n",
       "      <td>0.0</td>\n",
       "      <td>0.0</td>\n",
       "      <td>0.0</td>\n",
       "      <td>0.0</td>\n",
       "      <td>0.0</td>\n",
       "      <td>0.0</td>\n",
       "      <td>0.0</td>\n",
       "      <td>0.0</td>\n",
       "      <td>0.0</td>\n",
       "      <td>0.0</td>\n",
       "      <td>...</td>\n",
       "      <td>0.0</td>\n",
       "      <td>0.0</td>\n",
       "      <td>0.0</td>\n",
       "      <td>0.0</td>\n",
       "      <td>0.0</td>\n",
       "      <td>0.0</td>\n",
       "      <td>0.0</td>\n",
       "      <td>0.0</td>\n",
       "      <td>0.0</td>\n",
       "      <td>0.0</td>\n",
       "    </tr>\n",
       "    <tr>\n",
       "      <th>2011-01-01 01:00:00</th>\n",
       "      <td>0.0</td>\n",
       "      <td>0.0</td>\n",
       "      <td>0.0</td>\n",
       "      <td>0.0</td>\n",
       "      <td>0.0</td>\n",
       "      <td>0.0</td>\n",
       "      <td>0.0</td>\n",
       "      <td>0.0</td>\n",
       "      <td>0.0</td>\n",
       "      <td>0.0</td>\n",
       "      <td>...</td>\n",
       "      <td>0.0</td>\n",
       "      <td>0.0</td>\n",
       "      <td>0.0</td>\n",
       "      <td>0.0</td>\n",
       "      <td>0.0</td>\n",
       "      <td>0.0</td>\n",
       "      <td>0.0</td>\n",
       "      <td>0.0</td>\n",
       "      <td>0.0</td>\n",
       "      <td>0.0</td>\n",
       "    </tr>\n",
       "    <tr>\n",
       "      <th>2011-01-01 01:15:00</th>\n",
       "      <td>0.0</td>\n",
       "      <td>0.0</td>\n",
       "      <td>0.0</td>\n",
       "      <td>0.0</td>\n",
       "      <td>0.0</td>\n",
       "      <td>0.0</td>\n",
       "      <td>0.0</td>\n",
       "      <td>0.0</td>\n",
       "      <td>0.0</td>\n",
       "      <td>0.0</td>\n",
       "      <td>...</td>\n",
       "      <td>0.0</td>\n",
       "      <td>0.0</td>\n",
       "      <td>0.0</td>\n",
       "      <td>0.0</td>\n",
       "      <td>0.0</td>\n",
       "      <td>0.0</td>\n",
       "      <td>0.0</td>\n",
       "      <td>0.0</td>\n",
       "      <td>0.0</td>\n",
       "      <td>0.0</td>\n",
       "    </tr>\n",
       "  </tbody>\n",
       "</table>\n",
       "<p>5 rows × 370 columns</p>\n",
       "</div>"
      ],
      "text/plain": [
       "                     MT_001  MT_002  MT_003  MT_004  MT_005  MT_006  MT_007  \\\n",
       "2011-01-01 00:15:00     0.0     0.0     0.0     0.0     0.0     0.0     0.0   \n",
       "2011-01-01 00:30:00     0.0     0.0     0.0     0.0     0.0     0.0     0.0   \n",
       "2011-01-01 00:45:00     0.0     0.0     0.0     0.0     0.0     0.0     0.0   \n",
       "2011-01-01 01:00:00     0.0     0.0     0.0     0.0     0.0     0.0     0.0   \n",
       "2011-01-01 01:15:00     0.0     0.0     0.0     0.0     0.0     0.0     0.0   \n",
       "\n",
       "                     MT_008  MT_009  MT_010  ...  MT_361  MT_362  MT_363  \\\n",
       "2011-01-01 00:15:00     0.0     0.0     0.0  ...     0.0     0.0     0.0   \n",
       "2011-01-01 00:30:00     0.0     0.0     0.0  ...     0.0     0.0     0.0   \n",
       "2011-01-01 00:45:00     0.0     0.0     0.0  ...     0.0     0.0     0.0   \n",
       "2011-01-01 01:00:00     0.0     0.0     0.0  ...     0.0     0.0     0.0   \n",
       "2011-01-01 01:15:00     0.0     0.0     0.0  ...     0.0     0.0     0.0   \n",
       "\n",
       "                     MT_364  MT_365  MT_366  MT_367  MT_368  MT_369  MT_370  \n",
       "2011-01-01 00:15:00     0.0     0.0     0.0     0.0     0.0     0.0     0.0  \n",
       "2011-01-01 00:30:00     0.0     0.0     0.0     0.0     0.0     0.0     0.0  \n",
       "2011-01-01 00:45:00     0.0     0.0     0.0     0.0     0.0     0.0     0.0  \n",
       "2011-01-01 01:00:00     0.0     0.0     0.0     0.0     0.0     0.0     0.0  \n",
       "2011-01-01 01:15:00     0.0     0.0     0.0     0.0     0.0     0.0     0.0  \n",
       "\n",
       "[5 rows x 370 columns]"
      ]
     },
     "execution_count": 25,
     "metadata": {},
     "output_type": "execute_result"
    }
   ],
   "source": [
    "# Load data\n",
    "df = pd.read_csv(\n",
    "    'data/LD2011_2014.txt', \n",
    "    sep=';', \n",
    "    index_col=0, \n",
    "    parse_dates=True, \n",
    "    decimal=','\n",
    ")\n",
    "\n",
    "print(df.shape)\n",
    "df.head()\n"
   ]
  },
  {
   "cell_type": "markdown",
   "id": "4c12706e-ef1e-4ef2-8ba0-dff966dd7ed9",
   "metadata": {},
   "source": [
    "## Exploration of dataset"
   ]
  },
  {
   "cell_type": "code",
   "execution_count": 30,
   "id": "9f0828f5-2df4-4003-96bd-6ffee435364a",
   "metadata": {},
   "outputs": [
    {
     "name": "stdout",
     "output_type": "stream",
     "text": [
      "<class 'pandas.core.frame.DataFrame'>\n",
      "DatetimeIndex: 140256 entries, 2011-01-01 00:15:00 to 2015-01-01 00:00:00\n",
      "Columns: 370 entries, MT_001 to MT_370\n",
      "dtypes: float64(370)\n",
      "memory usage: 397.0 MB\n"
     ]
    },
    {
     "data": {
      "text/html": [
       "<div>\n",
       "<style scoped>\n",
       "    .dataframe tbody tr th:only-of-type {\n",
       "        vertical-align: middle;\n",
       "    }\n",
       "\n",
       "    .dataframe tbody tr th {\n",
       "        vertical-align: top;\n",
       "    }\n",
       "\n",
       "    .dataframe thead th {\n",
       "        text-align: right;\n",
       "    }\n",
       "</style>\n",
       "<table border=\"1\" class=\"dataframe\">\n",
       "  <thead>\n",
       "    <tr style=\"text-align: right;\">\n",
       "      <th></th>\n",
       "      <th>MT_001</th>\n",
       "      <th>MT_002</th>\n",
       "      <th>MT_003</th>\n",
       "      <th>MT_004</th>\n",
       "      <th>MT_005</th>\n",
       "      <th>MT_006</th>\n",
       "      <th>MT_007</th>\n",
       "      <th>MT_008</th>\n",
       "      <th>MT_009</th>\n",
       "      <th>MT_010</th>\n",
       "      <th>...</th>\n",
       "      <th>MT_361</th>\n",
       "      <th>MT_362</th>\n",
       "      <th>MT_363</th>\n",
       "      <th>MT_364</th>\n",
       "      <th>MT_365</th>\n",
       "      <th>MT_366</th>\n",
       "      <th>MT_367</th>\n",
       "      <th>MT_368</th>\n",
       "      <th>MT_369</th>\n",
       "      <th>MT_370</th>\n",
       "    </tr>\n",
       "  </thead>\n",
       "  <tbody>\n",
       "    <tr>\n",
       "      <th>count</th>\n",
       "      <td>140256.000000</td>\n",
       "      <td>140256.000000</td>\n",
       "      <td>140256.000000</td>\n",
       "      <td>140256.000000</td>\n",
       "      <td>140256.000000</td>\n",
       "      <td>140256.000000</td>\n",
       "      <td>140256.000000</td>\n",
       "      <td>140256.000000</td>\n",
       "      <td>140256.000000</td>\n",
       "      <td>140256.000000</td>\n",
       "      <td>...</td>\n",
       "      <td>140256.000000</td>\n",
       "      <td>140256.000000</td>\n",
       "      <td>140256.000000</td>\n",
       "      <td>140256.000000</td>\n",
       "      <td>140256.000000</td>\n",
       "      <td>140256.000000</td>\n",
       "      <td>140256.000000</td>\n",
       "      <td>140256.000000</td>\n",
       "      <td>140256.000000</td>\n",
       "      <td>140256.000000</td>\n",
       "    </tr>\n",
       "    <tr>\n",
       "      <th>mean</th>\n",
       "      <td>3.970785</td>\n",
       "      <td>20.768480</td>\n",
       "      <td>2.918308</td>\n",
       "      <td>82.184490</td>\n",
       "      <td>37.240309</td>\n",
       "      <td>141.227385</td>\n",
       "      <td>4.521338</td>\n",
       "      <td>191.401476</td>\n",
       "      <td>39.975354</td>\n",
       "      <td>42.205152</td>\n",
       "      <td>...</td>\n",
       "      <td>218.213701</td>\n",
       "      <td>37607.987537</td>\n",
       "      <td>1887.427366</td>\n",
       "      <td>2940.031734</td>\n",
       "      <td>65.413150</td>\n",
       "      <td>9.269709</td>\n",
       "      <td>424.262904</td>\n",
       "      <td>94.704717</td>\n",
       "      <td>625.251734</td>\n",
       "      <td>8722.355145</td>\n",
       "    </tr>\n",
       "    <tr>\n",
       "      <th>std</th>\n",
       "      <td>5.983965</td>\n",
       "      <td>13.272415</td>\n",
       "      <td>11.014456</td>\n",
       "      <td>58.248392</td>\n",
       "      <td>26.461327</td>\n",
       "      <td>98.439984</td>\n",
       "      <td>6.485684</td>\n",
       "      <td>121.981187</td>\n",
       "      <td>29.814595</td>\n",
       "      <td>33.401251</td>\n",
       "      <td>...</td>\n",
       "      <td>204.833532</td>\n",
       "      <td>38691.954832</td>\n",
       "      <td>1801.486488</td>\n",
       "      <td>2732.251967</td>\n",
       "      <td>65.007818</td>\n",
       "      <td>10.016782</td>\n",
       "      <td>274.337122</td>\n",
       "      <td>80.297301</td>\n",
       "      <td>380.656042</td>\n",
       "      <td>9195.155777</td>\n",
       "    </tr>\n",
       "    <tr>\n",
       "      <th>min</th>\n",
       "      <td>0.000000</td>\n",
       "      <td>0.000000</td>\n",
       "      <td>0.000000</td>\n",
       "      <td>0.000000</td>\n",
       "      <td>0.000000</td>\n",
       "      <td>0.000000</td>\n",
       "      <td>0.000000</td>\n",
       "      <td>0.000000</td>\n",
       "      <td>0.000000</td>\n",
       "      <td>0.000000</td>\n",
       "      <td>...</td>\n",
       "      <td>0.000000</td>\n",
       "      <td>0.000000</td>\n",
       "      <td>0.000000</td>\n",
       "      <td>0.000000</td>\n",
       "      <td>0.000000</td>\n",
       "      <td>0.000000</td>\n",
       "      <td>0.000000</td>\n",
       "      <td>0.000000</td>\n",
       "      <td>0.000000</td>\n",
       "      <td>0.000000</td>\n",
       "    </tr>\n",
       "    <tr>\n",
       "      <th>25%</th>\n",
       "      <td>0.000000</td>\n",
       "      <td>2.844950</td>\n",
       "      <td>0.000000</td>\n",
       "      <td>36.585366</td>\n",
       "      <td>15.853659</td>\n",
       "      <td>71.428571</td>\n",
       "      <td>0.565291</td>\n",
       "      <td>111.111111</td>\n",
       "      <td>13.986014</td>\n",
       "      <td>9.677419</td>\n",
       "      <td>...</td>\n",
       "      <td>5.710207</td>\n",
       "      <td>0.000000</td>\n",
       "      <td>0.000000</td>\n",
       "      <td>0.000000</td>\n",
       "      <td>13.037810</td>\n",
       "      <td>0.000000</td>\n",
       "      <td>0.000000</td>\n",
       "      <td>30.050083</td>\n",
       "      <td>83.944282</td>\n",
       "      <td>0.000000</td>\n",
       "    </tr>\n",
       "    <tr>\n",
       "      <th>50%</th>\n",
       "      <td>1.269036</td>\n",
       "      <td>24.893314</td>\n",
       "      <td>1.737619</td>\n",
       "      <td>87.398374</td>\n",
       "      <td>39.024390</td>\n",
       "      <td>157.738095</td>\n",
       "      <td>2.826456</td>\n",
       "      <td>222.222222</td>\n",
       "      <td>40.209790</td>\n",
       "      <td>40.860215</td>\n",
       "      <td>...</td>\n",
       "      <td>131.334761</td>\n",
       "      <td>24100.000000</td>\n",
       "      <td>1050.632911</td>\n",
       "      <td>2136.363636</td>\n",
       "      <td>31.290743</td>\n",
       "      <td>7.021650</td>\n",
       "      <td>525.899912</td>\n",
       "      <td>76.794658</td>\n",
       "      <td>758.064516</td>\n",
       "      <td>0.000000</td>\n",
       "    </tr>\n",
       "    <tr>\n",
       "      <th>75%</th>\n",
       "      <td>2.538071</td>\n",
       "      <td>29.871977</td>\n",
       "      <td>1.737619</td>\n",
       "      <td>115.853659</td>\n",
       "      <td>54.878049</td>\n",
       "      <td>205.357143</td>\n",
       "      <td>4.522329</td>\n",
       "      <td>279.461279</td>\n",
       "      <td>57.692308</td>\n",
       "      <td>61.290323</td>\n",
       "      <td>...</td>\n",
       "      <td>403.283369</td>\n",
       "      <td>54800.000000</td>\n",
       "      <td>3312.236287</td>\n",
       "      <td>5363.636364</td>\n",
       "      <td>108.213820</td>\n",
       "      <td>11.702750</td>\n",
       "      <td>627.743635</td>\n",
       "      <td>151.919866</td>\n",
       "      <td>875.366569</td>\n",
       "      <td>17783.783784</td>\n",
       "    </tr>\n",
       "    <tr>\n",
       "      <th>max</th>\n",
       "      <td>48.223350</td>\n",
       "      <td>115.220484</td>\n",
       "      <td>151.172893</td>\n",
       "      <td>321.138211</td>\n",
       "      <td>150.000000</td>\n",
       "      <td>535.714286</td>\n",
       "      <td>44.657999</td>\n",
       "      <td>552.188552</td>\n",
       "      <td>157.342657</td>\n",
       "      <td>198.924731</td>\n",
       "      <td>...</td>\n",
       "      <td>852.962170</td>\n",
       "      <td>192800.000000</td>\n",
       "      <td>7751.054852</td>\n",
       "      <td>12386.363636</td>\n",
       "      <td>335.071708</td>\n",
       "      <td>60.269163</td>\n",
       "      <td>1138.718174</td>\n",
       "      <td>362.270451</td>\n",
       "      <td>1549.120235</td>\n",
       "      <td>30918.918919</td>\n",
       "    </tr>\n",
       "  </tbody>\n",
       "</table>\n",
       "<p>8 rows × 370 columns</p>\n",
       "</div>"
      ],
      "text/plain": [
       "              MT_001         MT_002         MT_003         MT_004  \\\n",
       "count  140256.000000  140256.000000  140256.000000  140256.000000   \n",
       "mean        3.970785      20.768480       2.918308      82.184490   \n",
       "std         5.983965      13.272415      11.014456      58.248392   \n",
       "min         0.000000       0.000000       0.000000       0.000000   \n",
       "25%         0.000000       2.844950       0.000000      36.585366   \n",
       "50%         1.269036      24.893314       1.737619      87.398374   \n",
       "75%         2.538071      29.871977       1.737619     115.853659   \n",
       "max        48.223350     115.220484     151.172893     321.138211   \n",
       "\n",
       "              MT_005         MT_006         MT_007         MT_008  \\\n",
       "count  140256.000000  140256.000000  140256.000000  140256.000000   \n",
       "mean       37.240309     141.227385       4.521338     191.401476   \n",
       "std        26.461327      98.439984       6.485684     121.981187   \n",
       "min         0.000000       0.000000       0.000000       0.000000   \n",
       "25%        15.853659      71.428571       0.565291     111.111111   \n",
       "50%        39.024390     157.738095       2.826456     222.222222   \n",
       "75%        54.878049     205.357143       4.522329     279.461279   \n",
       "max       150.000000     535.714286      44.657999     552.188552   \n",
       "\n",
       "              MT_009         MT_010  ...         MT_361         MT_362  \\\n",
       "count  140256.000000  140256.000000  ...  140256.000000  140256.000000   \n",
       "mean       39.975354      42.205152  ...     218.213701   37607.987537   \n",
       "std        29.814595      33.401251  ...     204.833532   38691.954832   \n",
       "min         0.000000       0.000000  ...       0.000000       0.000000   \n",
       "25%        13.986014       9.677419  ...       5.710207       0.000000   \n",
       "50%        40.209790      40.860215  ...     131.334761   24100.000000   \n",
       "75%        57.692308      61.290323  ...     403.283369   54800.000000   \n",
       "max       157.342657     198.924731  ...     852.962170  192800.000000   \n",
       "\n",
       "              MT_363         MT_364         MT_365         MT_366  \\\n",
       "count  140256.000000  140256.000000  140256.000000  140256.000000   \n",
       "mean     1887.427366    2940.031734      65.413150       9.269709   \n",
       "std      1801.486488    2732.251967      65.007818      10.016782   \n",
       "min         0.000000       0.000000       0.000000       0.000000   \n",
       "25%         0.000000       0.000000      13.037810       0.000000   \n",
       "50%      1050.632911    2136.363636      31.290743       7.021650   \n",
       "75%      3312.236287    5363.636364     108.213820      11.702750   \n",
       "max      7751.054852   12386.363636     335.071708      60.269163   \n",
       "\n",
       "              MT_367         MT_368         MT_369         MT_370  \n",
       "count  140256.000000  140256.000000  140256.000000  140256.000000  \n",
       "mean      424.262904      94.704717     625.251734    8722.355145  \n",
       "std       274.337122      80.297301     380.656042    9195.155777  \n",
       "min         0.000000       0.000000       0.000000       0.000000  \n",
       "25%         0.000000      30.050083      83.944282       0.000000  \n",
       "50%       525.899912      76.794658     758.064516       0.000000  \n",
       "75%       627.743635     151.919866     875.366569   17783.783784  \n",
       "max      1138.718174     362.270451    1549.120235   30918.918919  \n",
       "\n",
       "[8 rows x 370 columns]"
      ]
     },
     "execution_count": 30,
     "metadata": {},
     "output_type": "execute_result"
    }
   ],
   "source": [
    "df.info()\n",
    "df.describe()"
   ]
  },
  {
   "cell_type": "code",
   "execution_count": 32,
   "id": "82ff1fff-8ecf-4af1-9218-7c124c6ff959",
   "metadata": {},
   "outputs": [
    {
     "data": {
      "image/png": "[encoded data removed]",
      "text/plain": [
       "<Figure size 1400x500 with 1 Axes>"
      ]
     },
     "metadata": {},
     "output_type": "display_data"
    }
   ],
   "source": [
    "# Example: create a column with total demand across all customers\n",
    "df['total_consumption'] = df.sum(axis=1)\n",
    "\n",
    "# Let’s look at a short period, e.g., the first month of 2012\n",
    "df_2012_jan = df.loc['2012-01':'2012-01']\n",
    "plt.figure(figsize=(14,5))\n",
    "plt.plot(df_2012_jan.index, df_2012_jan['total_consumption'])\n",
    "plt.title(\"Total Demand - January 2012\")\n",
    "plt.xlabel(\"Date\")\n",
    "plt.ylabel(\"Consumption (kWh)\")\n",
    "plt.show()"
   ]
  },
  {
   "cell_type": "markdown",
   "id": "7a9ca2d6-f95f-4ca4-9354-ebc321a1e19e",
   "metadata": {},
   "source": [
    "## Data Preprocessing\n",
    "- Check for missing values\n",
    "- Interpolate or drop rows with missing data, depending on the situation.\n",
    "- Adjust time frequency if needed. If we have one record per hour, we keep that frequency. If data is at 15-minute intervals, we may resample to hourly using df.resample('H').sum() or mean()\n",
    "- Create a main series: we will focus on the total_consumption column to predict total demand."
   ]
  },
  {
   "cell_type": "code",
   "execution_count": 40,
   "id": "a7d12787-7957-40f9-b5b6-3d90ba57729d",
   "metadata": {},
   "outputs": [
    {
     "name": "stdout",
     "output_type": "stream",
     "text": [
      "0\n"
     ]
    }
   ],
   "source": [
    "# 1. Identify missing values\n",
    "print(df['total_consumption'].isna().sum())\n",
    "\n",
    "# 2. Interpolate if only a few are missing\n",
    "df['total_consumption'] = df['total_consumption'].interpolate(method='time')\n",
    "\n",
    "# 3. Ensure hourly frequency (if necessary)\n",
    "df = df.asfreq('h', method='pad')\n",
    "\n",
    "# 4. Filter down to the final column of interest\n",
    "df_energy = df[['total_consumption']].copy()\n"
   ]
  },
  {
   "cell_type": "markdown",
   "id": "a829a72f-b1e5-439e-aefb-edfd67c627ec",
   "metadata": {},
   "source": [
    "## Feature Engineering\n",
    "With Gradient Boosting, it is possible to create additional features based on the date index and the series itself:\n",
    "\n",
    "- Lags: demand values from previous hours.\n",
    "- Moving averages: average consumption for the last 24 hours, 7 days, etc.\n",
    "- Calendar variables: hour of day, day of week, month, holidays, etc.\n",
    "- Cyclical variables: represent the hour of day, day of the week, etc., using sine/cosine to capture periodicity."
   ]
  },
  {
   "cell_type": "code",
   "execution_count": 44,
   "id": "d4f4ad1b-fd50-486f-861d-23f6e7e57265",
   "metadata": {},
   "outputs": [
    {
     "data": {
      "text/html": [
       "<div>\n",
       "<style scoped>\n",
       "    .dataframe tbody tr th:only-of-type {\n",
       "        vertical-align: middle;\n",
       "    }\n",
       "\n",
       "    .dataframe tbody tr th {\n",
       "        vertical-align: top;\n",
       "    }\n",
       "\n",
       "    .dataframe thead th {\n",
       "        text-align: right;\n",
       "    }\n",
       "</style>\n",
       "<table border=\"1\" class=\"dataframe\">\n",
       "  <thead>\n",
       "    <tr style=\"text-align: right;\">\n",
       "      <th></th>\n",
       "      <th>total_consumption</th>\n",
       "      <th>lag_1</th>\n",
       "      <th>lag_24</th>\n",
       "      <th>lag_48</th>\n",
       "      <th>lag_168</th>\n",
       "      <th>hour</th>\n",
       "      <th>dayofweek</th>\n",
       "      <th>month</th>\n",
       "      <th>hour_sin</th>\n",
       "      <th>hour_cos</th>\n",
       "      <th>dayofweek_sin</th>\n",
       "      <th>dayofweek_cos</th>\n",
       "      <th>month_sin</th>\n",
       "      <th>month_cos</th>\n",
       "    </tr>\n",
       "  </thead>\n",
       "  <tbody>\n",
       "    <tr>\n",
       "      <th>2011-01-08 00:15:00</th>\n",
       "      <td>87892.855027</td>\n",
       "      <td>115312.511436</td>\n",
       "      <td>87666.723992</td>\n",
       "      <td>85284.671658</td>\n",
       "      <td>68513.115338</td>\n",
       "      <td>0</td>\n",
       "      <td>5</td>\n",
       "      <td>1</td>\n",
       "      <td>0.000000</td>\n",
       "      <td>1.000000</td>\n",
       "      <td>-0.974928</td>\n",
       "      <td>-0.222521</td>\n",
       "      <td>0.5</td>\n",
       "      <td>0.866025</td>\n",
       "    </tr>\n",
       "    <tr>\n",
       "      <th>2011-01-08 01:15:00</th>\n",
       "      <td>73691.379816</td>\n",
       "      <td>87892.855027</td>\n",
       "      <td>72158.621484</td>\n",
       "      <td>72394.114961</td>\n",
       "      <td>66166.874303</td>\n",
       "      <td>1</td>\n",
       "      <td>5</td>\n",
       "      <td>1</td>\n",
       "      <td>0.258819</td>\n",
       "      <td>0.965926</td>\n",
       "      <td>-0.974928</td>\n",
       "      <td>-0.222521</td>\n",
       "      <td>0.5</td>\n",
       "      <td>0.866025</td>\n",
       "    </tr>\n",
       "    <tr>\n",
       "      <th>2011-01-08 02:15:00</th>\n",
       "      <td>68881.931855</td>\n",
       "      <td>73691.379816</td>\n",
       "      <td>70611.421346</td>\n",
       "      <td>67887.315569</td>\n",
       "      <td>65567.578171</td>\n",
       "      <td>2</td>\n",
       "      <td>5</td>\n",
       "      <td>1</td>\n",
       "      <td>0.500000</td>\n",
       "      <td>0.866025</td>\n",
       "      <td>-0.974928</td>\n",
       "      <td>-0.222521</td>\n",
       "      <td>0.5</td>\n",
       "      <td>0.866025</td>\n",
       "    </tr>\n",
       "    <tr>\n",
       "      <th>2011-01-08 03:15:00</th>\n",
       "      <td>69298.573949</td>\n",
       "      <td>68881.931855</td>\n",
       "      <td>70011.477129</td>\n",
       "      <td>70031.635375</td>\n",
       "      <td>65008.593923</td>\n",
       "      <td>3</td>\n",
       "      <td>5</td>\n",
       "      <td>1</td>\n",
       "      <td>0.707107</td>\n",
       "      <td>0.707107</td>\n",
       "      <td>-0.974928</td>\n",
       "      <td>-0.222521</td>\n",
       "      <td>0.5</td>\n",
       "      <td>0.866025</td>\n",
       "    </tr>\n",
       "    <tr>\n",
       "      <th>2011-01-08 04:15:00</th>\n",
       "      <td>67148.998430</td>\n",
       "      <td>69298.573949</td>\n",
       "      <td>68768.323850</td>\n",
       "      <td>67787.071014</td>\n",
       "      <td>64336.195865</td>\n",
       "      <td>4</td>\n",
       "      <td>5</td>\n",
       "      <td>1</td>\n",
       "      <td>0.866025</td>\n",
       "      <td>0.500000</td>\n",
       "      <td>-0.974928</td>\n",
       "      <td>-0.222521</td>\n",
       "      <td>0.5</td>\n",
       "      <td>0.866025</td>\n",
       "    </tr>\n",
       "  </tbody>\n",
       "</table>\n",
       "</div>"
      ],
      "text/plain": [
       "                     total_consumption          lag_1        lag_24  \\\n",
       "2011-01-08 00:15:00       87892.855027  115312.511436  87666.723992   \n",
       "2011-01-08 01:15:00       73691.379816   87892.855027  72158.621484   \n",
       "2011-01-08 02:15:00       68881.931855   73691.379816  70611.421346   \n",
       "2011-01-08 03:15:00       69298.573949   68881.931855  70011.477129   \n",
       "2011-01-08 04:15:00       67148.998430   69298.573949  68768.323850   \n",
       "\n",
       "                           lag_48       lag_168  hour  dayofweek  month  \\\n",
       "2011-01-08 00:15:00  85284.671658  68513.115338     0          5      1   \n",
       "2011-01-08 01:15:00  72394.114961  66166.874303     1          5      1   \n",
       "2011-01-08 02:15:00  67887.315569  65567.578171     2          5      1   \n",
       "2011-01-08 03:15:00  70031.635375  65008.593923     3          5      1   \n",
       "2011-01-08 04:15:00  67787.071014  64336.195865     4          5      1   \n",
       "\n",
       "                     hour_sin  hour_cos  dayofweek_sin  dayofweek_cos  \\\n",
       "2011-01-08 00:15:00  0.000000  1.000000      -0.974928      -0.222521   \n",
       "2011-01-08 01:15:00  0.258819  0.965926      -0.974928      -0.222521   \n",
       "2011-01-08 02:15:00  0.500000  0.866025      -0.974928      -0.222521   \n",
       "2011-01-08 03:15:00  0.707107  0.707107      -0.974928      -0.222521   \n",
       "2011-01-08 04:15:00  0.866025  0.500000      -0.974928      -0.222521   \n",
       "\n",
       "                     month_sin  month_cos  \n",
       "2011-01-08 00:15:00        0.5   0.866025  \n",
       "2011-01-08 01:15:00        0.5   0.866025  \n",
       "2011-01-08 02:15:00        0.5   0.866025  \n",
       "2011-01-08 03:15:00        0.5   0.866025  \n",
       "2011-01-08 04:15:00        0.5   0.866025  "
      ]
     },
     "execution_count": 44,
     "metadata": {},
     "output_type": "execute_result"
    }
   ],
   "source": [
    "def create_features(df, lags=[1,24,48,168]):\n",
    "    \"\"\"\n",
    "    Creates lag columns and calendar features.\n",
    "    lags: list of hourly lags (e.g., 1, 24,...)\n",
    "    \"\"\"\n",
    "    df_feat = df.copy()\n",
    "    \n",
    "    # Lags\n",
    "    for lag in lags:\n",
    "        df_feat[f'lag_{lag}'] = df_feat['total_consumption'].shift(lag)\n",
    "    \n",
    "    # Calendar variables\n",
    "    df_feat['hour'] = df_feat.index.hour\n",
    "    df_feat['dayofweek'] = df_feat.index.dayofweek\n",
    "    df_feat['month'] = df_feat.index.month\n",
    "    \n",
    "    # Cyclical variables\n",
    "    # For example, hour of the day (24 hours)\n",
    "    df_feat['hour_sin'] = np.sin(2 * np.pi * df_feat['hour']/24)\n",
    "    df_feat['hour_cos'] = np.cos(2 * np.pi * df_feat['hour']/24)\n",
    "    \n",
    "    # Day of the week (7 days)\n",
    "    df_feat['dayofweek_sin'] = np.sin(2 * np.pi * df_feat['dayofweek']/7)\n",
    "    df_feat['dayofweek_cos'] = np.cos(2 * np.pi * df_feat['dayofweek']/7)\n",
    "    \n",
    "    # Month (12 months)\n",
    "    df_feat['month_sin'] = np.sin(2 * np.pi * df_feat['month']/12)\n",
    "    df_feat['month_cos'] = np.cos(2 * np.pi * df_feat['month']/12)\n",
    "    \n",
    "    # Drop initial rows that have NaN due to lags\n",
    "    df_feat = df_feat.dropna()\n",
    "    \n",
    "    return df_feat\n",
    "\n",
    "df_feat = create_features(df_energy)\n",
    "df_feat.head()"
   ]
  },
  {
   "cell_type": "markdown",
   "id": "c0136779-e013-4a54-8280-a203560fb62a",
   "metadata": {},
   "source": [
    "## Training / Validation / Test Split \n",
    "Use earlier data for training and later data for validation/test. Chose specific cutoff dates so that chronology is respected. This avoids data leakage."
   ]
  },
  {
   "cell_type": "code",
   "execution_count": 48,
   "id": "b5763ea1-d5c0-487b-a9ea-88cbe7145a8c",
   "metadata": {},
   "outputs": [
    {
     "name": "stdout",
     "output_type": "stream",
     "text": [
      "Train: 2011-01-08 00:15:00 - 2013-01-01 23:15:00\n",
      "Val:   2013-01-01 00:15:00   - 2013-09-01 23:15:00\n",
      "Test:  2013-09-01 00:15:00  - 2014-12-31 23:15:00\n"
     ]
    }
   ],
   "source": [
    "# Define cutoff dates, for example: train with 2011-2012, validate 2013, test 2014\n",
    "train_end_date = '2013-01-01'\n",
    "val_end_date   = '2013-09-01'\n",
    "\n",
    "train_data = df_feat.loc[:train_end_date]\n",
    "val_data   = df_feat.loc[train_end_date:val_end_date]\n",
    "test_data  = df_feat.loc[val_end_date:]\n",
    "\n",
    "print(f\"Train: {train_data.index.min()} - {train_data.index.max()}\")\n",
    "print(f\"Val:   {val_data.index.min()}   - {val_data.index.max()}\")\n",
    "print(f\"Test:  {test_data.index.min()}  - {test_data.index.max()}\")\n",
    "\n",
    "# Predictor variables and target\n",
    "features = [col for col in df_feat.columns if col != 'total_consumption']\n",
    "\n",
    "X_train = train_data[features]\n",
    "y_train = train_data['total_consumption']\n",
    "\n",
    "X_val = val_data[features]\n",
    "y_val = val_data['total_consumption']\n",
    "\n",
    "X_test = test_data[features]\n",
    "y_test = test_data['total_consumption']\n"
   ]
  },
  {
   "cell_type": "markdown",
   "id": "a7937c72-969f-4eef-bd0d-2610f6860362",
   "metadata": {},
   "source": [
    "## Training a Gradient Boosting Model (XGBoost)\n",
    "Start with a base model using default hyperparameters"
   ]
  },
  {
   "cell_type": "code",
   "execution_count": 57,
   "id": "482f0fc2-c4dc-4b4b-8dfa-2b3c7dea91cb",
   "metadata": {},
   "outputs": [
    {
     "name": "stdout",
     "output_type": "stream",
     "text": [
      "MAE (Val) = 6117.99\n",
      "RMSE (Val) = 9049.83\n"
     ]
    },
    {
     "name": "stderr",
     "output_type": "stream",
     "text": [
      "C:\\Users\\luisj\\anaconda3\\Lib\\site-packages\\sklearn\\metrics\\_regression.py:492: FutureWarning: 'squared' is deprecated in version 1.4 and will be removed in 1.6. To calculate the root mean squared error, use the function'root_mean_squared_error'.\n",
      "  warnings.warn(\n"
     ]
    }
   ],
   "source": [
    "xgb_model = XGBRegressor(random_state=42)\n",
    "xgb_model.fit(X_train, y_train)\n",
    "\n",
    "# Prediction and evaluation on validation\n",
    "val_pred = xgb_model.predict(X_val)\n",
    "\n",
    "mae_val = mean_absolute_error(y_val, val_pred)\n",
    "rmse_val = mean_squared_error(y_val, val_pred, squared=False)\n",
    "\n",
    "print(f\"MAE (Val) = {mae_val:.2f}\")\n",
    "print(f\"RMSE (Val) = {rmse_val:.2f}\")\n"
   ]
  },
  {
   "cell_type": "markdown",
   "id": "1c36c243-be51-4878-8e6f-b98876c61a37",
   "metadata": {},
   "source": [
    "## Hyperparameter Tuning\n",
    "Apply GridSearchCV, considering that this is time-series data (TimeSeriesSplit). This takes more compute time but can yield better results.  \n",
    "Using TimeSeriesSplit respects chronological order. I chose neg_mean_squared_error as the scoring function so we can evaluate RMSE afterward."
   ]
  },
  {
   "cell_type": "code",
   "execution_count": 60,
   "id": "9717b154-25a9-46a8-8330-ffd176b4da92",
   "metadata": {},
   "outputs": [
    {
     "name": "stdout",
     "output_type": "stream",
     "text": [
      "Fitting 3 folds for each of 8 candidates, totalling 24 fits\n",
      "Best hyperparameters: {'learning_rate': 0.1, 'max_depth': 3, 'n_estimators': 200}\n",
      "RMSE on Validation (Best XGB): 8552.37\n"
     ]
    },
    {
     "name": "stderr",
     "output_type": "stream",
     "text": [
      "C:\\Users\\luisj\\anaconda3\\Lib\\site-packages\\sklearn\\metrics\\_regression.py:492: FutureWarning: 'squared' is deprecated in version 1.4 and will be removed in 1.6. To calculate the root mean squared error, use the function'root_mean_squared_error'.\n",
      "  warnings.warn(\n"
     ]
    }
   ],
   "source": [
    "tscv = TimeSeriesSplit(n_splits=3)\n",
    "\n",
    "params = {\n",
    "    'n_estimators': [100, 200],\n",
    "    'max_depth': [3, 5],\n",
    "    'learning_rate': [0.01, 0.1]\n",
    "}\n",
    "\n",
    "xgb_model_cv = XGBRegressor(random_state=42)\n",
    "\n",
    "grid_search = GridSearchCV(\n",
    "    estimator=xgb_model_cv,\n",
    "    param_grid=params,\n",
    "    scoring='neg_mean_squared_error',\n",
    "    cv=tscv,\n",
    "    verbose=1\n",
    ")\n",
    "\n",
    "grid_search.fit(X_train, y_train)\n",
    "\n",
    "print(\"Best hyperparameters:\", grid_search.best_params_)\n",
    "\n",
    "# Train the best model\n",
    "best_xgb = grid_search.best_estimator_\n",
    "val_pred_best = best_xgb.predict(X_val)\n",
    "rmse_val_best = mean_squared_error(y_val, val_pred_best, squared=False)\n",
    "print(f\"RMSE on Validation (Best XGB): {rmse_val_best:.2f}\")\n"
   ]
  },
  {
   "cell_type": "markdown",
   "id": "d29e31a0-4708-4c3b-adf7-10cd4f636c5f",
   "metadata": {},
   "source": [
    "## Final Evaluation on Test Set"
   ]
  },
  {
   "cell_type": "code",
   "execution_count": 64,
   "id": "e239f5ff-6fe6-4650-99f0-4982092ee05c",
   "metadata": {},
   "outputs": [
    {
     "name": "stdout",
     "output_type": "stream",
     "text": [
      "RMSE (Test): 8742.59\n",
      "MAE (Test): 5875.24\n"
     ]
    },
    {
     "name": "stderr",
     "output_type": "stream",
     "text": [
      "C:\\Users\\luisj\\anaconda3\\Lib\\site-packages\\sklearn\\metrics\\_regression.py:492: FutureWarning: 'squared' is deprecated in version 1.4 and will be removed in 1.6. To calculate the root mean squared error, use the function'root_mean_squared_error'.\n",
      "  warnings.warn(\n"
     ]
    }
   ],
   "source": [
    "test_pred = best_xgb.predict(X_test)\n",
    "rmse_test = mean_squared_error(y_test, test_pred, squared=False)\n",
    "mae_test = mean_absolute_error(y_test, test_pred)\n",
    "\n",
    "print(f\"RMSE (Test): {rmse_test:.2f}\")\n",
    "print(f\"MAE (Test): {mae_test:.2f}\")\n"
   ]
  },
  {
   "cell_type": "markdown",
   "id": "8aa2d2cd-379c-406a-812c-3b9e29ed86e7",
   "metadata": {},
   "source": [
    "## Interpretability"
   ]
  },
  {
   "cell_type": "code",
   "execution_count": 67,
   "id": "f67ff9a6-e40e-4d94-a3eb-cae735bb85d3",
   "metadata": {},
   "outputs": [
    {
     "name": "stderr",
     "output_type": "stream",
     "text": [
      " 94%|=================== | 5501/5856 [00:14<00:00]       "
     ]
    },
    {
     "data": {
      "image/png": "[encoded data removed]",
      "text/plain": [
       "<Figure size 800x550 with 2 Axes>"
      ]
     },
     "metadata": {},
     "output_type": "display_data"
    }
   ],
   "source": [
    "# Initial SHAP setup\n",
    "explainer = shap.Explainer(best_xgb, X_train)\n",
    "shap_values = explainer(X_val)\n",
    "\n",
    "# Global importance summary\n",
    "shap.plots.beeswarm(shap_values)\n"
   ]
  },
  {
   "cell_type": "markdown",
   "id": "b226b452-c094-45d0-8441-5ce601b7168e",
   "metadata": {},
   "source": [
    "## Training a Neural Network (LSTM)\n",
    "LSTM networks require tensors of shape (batch, time_steps, features). It is necessary to define a function that, given the dataset with lags, builds these windows. For simplicity, we can use the same features we defined earlier, although sometimes for LSTM the approach to lags is handled differently."
   ]
  },
  {
   "cell_type": "code",
   "execution_count": 71,
   "id": "9f5e3637-7f96-48fd-91d5-ec54e26de0b3",
   "metadata": {},
   "outputs": [],
   "source": [
    "def create_sequences(X, y, time_steps=24):\n",
    "    \"\"\"\n",
    "    time_steps: how many time steps back for the sequence.\n",
    "    \"\"\"\n",
    "    Xs, ys = [], []\n",
    "    for i in range(len(X) - time_steps):\n",
    "        Xs.append(X.iloc[i:(i+time_steps)].values)\n",
    "        ys.append(y.iloc[i+time_steps])\n",
    "    return np.array(Xs), np.array(ys)\n",
    "\n",
    "time_steps = 24  # For example, use the past 24 hours to predict the next hour\n"
   ]
  },
  {
   "cell_type": "markdown",
   "id": "f4e897c8-b055-4c52-aed3-640e25f6c681",
   "metadata": {},
   "source": [
    "## Building the Train/Validation/Test Sets for LSTM"
   ]
  },
  {
   "cell_type": "code",
   "execution_count": 74,
   "id": "2afd901a-7025-4fd9-9b77-1cbc5724a917",
   "metadata": {},
   "outputs": [
    {
     "name": "stdout",
     "output_type": "stream",
     "text": [
      "(17376, 24, 13) (17376,)\n"
     ]
    }
   ],
   "source": [
    "# Make sure to remove NaN rows:\n",
    "df_lstm = df_feat.dropna()\n",
    "\n",
    "# Split in the same chronological way (we reuse the date indexes)\n",
    "train_lstm = df_lstm.loc[:train_end_date]\n",
    "val_lstm = df_lstm.loc[train_end_date:val_end_date]\n",
    "test_lstm = df_lstm.loc[val_end_date:]\n",
    "\n",
    "X_train_lstm, y_train_lstm = create_sequences(train_lstm[features], train_lstm['total_consumption'], time_steps=time_steps)\n",
    "X_val_lstm, y_val_lstm     = create_sequences(val_lstm[features], val_lstm['total_consumption'], time_steps=time_steps)\n",
    "X_test_lstm, y_test_lstm   = create_sequences(test_lstm[features], test_lstm['total_consumption'], time_steps=time_steps)\n",
    "\n",
    "print(X_train_lstm.shape, y_train_lstm.shape)\n"
   ]
  },
  {
   "cell_type": "markdown",
   "id": "03a7105d-a14b-49b5-b2b9-761d5064ab41",
   "metadata": {},
   "source": [
    "## Defining the LSTM Model\n",
    "Decisions:  \n",
    "- 64 LSTM units.\n",
    "- return_sequences=False since we only need the final output.\n",
    "- Dropout(0.2) for regularization.\n",
    "- Loss function: MSE."
   ]
  },
  {
   "cell_type": "code",
   "execution_count": 79,
   "id": "dc6c563a-6e65-4c23-bfd5-0e0a9ccbe898",
   "metadata": {},
   "outputs": [
    {
     "name": "stderr",
     "output_type": "stream",
     "text": [
      "C:\\Users\\luisj\\anaconda3\\Lib\\site-packages\\keras\\src\\layers\\rnn\\rnn.py:200: UserWarning: Do not pass an `input_shape`/`input_dim` argument to a layer. When using Sequential models, prefer using an `Input(shape)` object as the first layer in the model instead.\n",
      "  super().__init__(**kwargs)\n"
     ]
    },
    {
     "data": {
      "text/html": [
       "<pre style=\"white-space:pre;overflow-x:auto;line-height:normal;font-family:Menlo,'DejaVu Sans Mono',consolas,'Courier New',monospace\"><span style=\"font-weight: bold\">Model: \"sequential\"</span>\n",
       "</pre>\n"
      ],
      "text/plain": [
       "\u001b[1mModel: \"sequential\"\u001b[0m\n"
      ]
     },
     "metadata": {},
     "output_type": "display_data"
    },
    {
     "data": {
      "text/html": [
       "<pre style=\"white-space:pre;overflow-x:auto;line-height:normal;font-family:Menlo,'DejaVu Sans Mono',consolas,'Courier New',monospace\">┏━━━━━━━━━━━━━━━━━━━━━━━━━━━━━━━━━━━━━━┳━━━━━━━━━━━━━━━━━━━━━━━━━━━━━┳━━━━━━━━━━━━━━━━━┓\n",
       "┃<span style=\"font-weight: bold\"> Layer (type)                         </span>┃<span style=\"font-weight: bold\"> Output Shape                </span>┃<span style=\"font-weight: bold\">         Param # </span>┃\n",
       "┡━━━━━━━━━━━━━━━━━━━━━━━━━━━━━━━━━━━━━━╇━━━━━━━━━━━━━━━━━━━━━━━━━━━━━╇━━━━━━━━━━━━━━━━━┩\n",
       "│ lstm (<span style=\"color: #0087ff; text-decoration-color: #0087ff\">LSTM</span>)                          │ (<span style=\"color: #00d7ff; text-decoration-color: #00d7ff\">None</span>, <span style=\"color: #00af00; text-decoration-color: #00af00\">64</span>)                  │          <span style=\"color: #00af00; text-decoration-color: #00af00\">19,968</span> │\n",
       "├──────────────────────────────────────┼─────────────────────────────┼─────────────────┤\n",
       "│ dropout (<span style=\"color: #0087ff; text-decoration-color: #0087ff\">Dropout</span>)                    │ (<span style=\"color: #00d7ff; text-decoration-color: #00d7ff\">None</span>, <span style=\"color: #00af00; text-decoration-color: #00af00\">64</span>)                  │               <span style=\"color: #00af00; text-decoration-color: #00af00\">0</span> │\n",
       "├──────────────────────────────────────┼─────────────────────────────┼─────────────────┤\n",
       "│ dense (<span style=\"color: #0087ff; text-decoration-color: #0087ff\">Dense</span>)                        │ (<span style=\"color: #00d7ff; text-decoration-color: #00d7ff\">None</span>, <span style=\"color: #00af00; text-decoration-color: #00af00\">1</span>)                   │              <span style=\"color: #00af00; text-decoration-color: #00af00\">65</span> │\n",
       "└──────────────────────────────────────┴─────────────────────────────┴─────────────────┘\n",
       "</pre>\n"
      ],
      "text/plain": [
       "┏━━━━━━━━━━━━━━━━━━━━━━━━━━━━━━━━━━━━━━┳━━━━━━━━━━━━━━━━━━━━━━━━━━━━━┳━━━━━━━━━━━━━━━━━┓\n",
       "┃\u001b[1m \u001b[0m\u001b[1mLayer (type)                        \u001b[0m\u001b[1m \u001b[0m┃\u001b[1m \u001b[0m\u001b[1mOutput Shape               \u001b[0m\u001b[1m \u001b[0m┃\u001b[1m \u001b[0m\u001b[1m        Param #\u001b[0m\u001b[1m \u001b[0m┃\n",
       "┡━━━━━━━━━━━━━━━━━━━━━━━━━━━━━━━━━━━━━━╇━━━━━━━━━━━━━━━━━━━━━━━━━━━━━╇━━━━━━━━━━━━━━━━━┩\n",
       "│ lstm (\u001b[38;5;33mLSTM\u001b[0m)                          │ (\u001b[38;5;45mNone\u001b[0m, \u001b[38;5;34m64\u001b[0m)                  │          \u001b[38;5;34m19,968\u001b[0m │\n",
       "├──────────────────────────────────────┼─────────────────────────────┼─────────────────┤\n",
       "│ dropout (\u001b[38;5;33mDropout\u001b[0m)                    │ (\u001b[38;5;45mNone\u001b[0m, \u001b[38;5;34m64\u001b[0m)                  │               \u001b[38;5;34m0\u001b[0m │\n",
       "├──────────────────────────────────────┼─────────────────────────────┼─────────────────┤\n",
       "│ dense (\u001b[38;5;33mDense\u001b[0m)                        │ (\u001b[38;5;45mNone\u001b[0m, \u001b[38;5;34m1\u001b[0m)                   │              \u001b[38;5;34m65\u001b[0m │\n",
       "└──────────────────────────────────────┴─────────────────────────────┴─────────────────┘\n"
      ]
     },
     "metadata": {},
     "output_type": "display_data"
    },
    {
     "data": {
      "text/html": [
       "<pre style=\"white-space:pre;overflow-x:auto;line-height:normal;font-family:Menlo,'DejaVu Sans Mono',consolas,'Courier New',monospace\"><span style=\"font-weight: bold\"> Total params: </span><span style=\"color: #00af00; text-decoration-color: #00af00\">20,033</span> (78.25 KB)\n",
       "</pre>\n"
      ],
      "text/plain": [
       "\u001b[1m Total params: \u001b[0m\u001b[38;5;34m20,033\u001b[0m (78.25 KB)\n"
      ]
     },
     "metadata": {},
     "output_type": "display_data"
    },
    {
     "data": {
      "text/html": [
       "<pre style=\"white-space:pre;overflow-x:auto;line-height:normal;font-family:Menlo,'DejaVu Sans Mono',consolas,'Courier New',monospace\"><span style=\"font-weight: bold\"> Trainable params: </span><span style=\"color: #00af00; text-decoration-color: #00af00\">20,033</span> (78.25 KB)\n",
       "</pre>\n"
      ],
      "text/plain": [
       "\u001b[1m Trainable params: \u001b[0m\u001b[38;5;34m20,033\u001b[0m (78.25 KB)\n"
      ]
     },
     "metadata": {},
     "output_type": "display_data"
    },
    {
     "data": {
      "text/html": [
       "<pre style=\"white-space:pre;overflow-x:auto;line-height:normal;font-family:Menlo,'DejaVu Sans Mono',consolas,'Courier New',monospace\"><span style=\"font-weight: bold\"> Non-trainable params: </span><span style=\"color: #00af00; text-decoration-color: #00af00\">0</span> (0.00 B)\n",
       "</pre>\n"
      ],
      "text/plain": [
       "\u001b[1m Non-trainable params: \u001b[0m\u001b[38;5;34m0\u001b[0m (0.00 B)\n"
      ]
     },
     "metadata": {},
     "output_type": "display_data"
    }
   ],
   "source": [
    "model_lstm = Sequential()\n",
    "model_lstm.add(LSTM(64, activation='tanh', return_sequences=False, input_shape=(time_steps, len(features))))\n",
    "model_lstm.add(Dropout(0.2))\n",
    "model_lstm.add(Dense(1))  # Output layer\n",
    "\n",
    "model_lstm.compile(optimizer='adam', loss='mse')\n",
    "model_lstm.summary()\n"
   ]
  },
  {
   "cell_type": "markdown",
   "id": "a0a6e7aa-b3ad-4f27-8a2f-3a2e3f07a358",
   "metadata": {},
   "source": [
    "## Training and Validation "
   ]
  },
  {
   "cell_type": "code",
   "execution_count": 87,
   "id": "ff66f91c-42c6-445f-b1e8-434d88f9cc5d",
   "metadata": {},
   "outputs": [
    {
     "name": "stdout",
     "output_type": "stream",
     "text": [
      "Epoch 1/50\n",
      "\u001b[1m272/272\u001b[0m \u001b[32m━━━━━━━━━━━━━━━━━━━━\u001b[0m\u001b[37m\u001b[0m \u001b[1m2s\u001b[0m 9ms/step - loss: 34379042816.0000 - val_loss: 56796196864.0000\n",
      "Epoch 2/50\n",
      "\u001b[1m272/272\u001b[0m \u001b[32m━━━━━━━━━━━━━━━━━━━━\u001b[0m\u001b[37m\u001b[0m \u001b[1m2s\u001b[0m 9ms/step - loss: 34085830656.0000 - val_loss: 56793677824.0000\n",
      "Epoch 3/50\n",
      "\u001b[1m272/272\u001b[0m \u001b[32m━━━━━━━━━━━━━━━━━━━━\u001b[0m\u001b[37m\u001b[0m \u001b[1m2s\u001b[0m 8ms/step - loss: 34314127360.0000 - val_loss: 56791158784.0000\n",
      "Epoch 4/50\n",
      "\u001b[1m272/272\u001b[0m \u001b[32m━━━━━━━━━━━━━━━━━━━━\u001b[0m\u001b[37m\u001b[0m \u001b[1m2s\u001b[0m 9ms/step - loss: 34192623616.0000 - val_loss: 56788631552.0000\n",
      "Epoch 5/50\n",
      "\u001b[1m272/272\u001b[0m \u001b[32m━━━━━━━━━━━━━━━━━━━━\u001b[0m\u001b[37m\u001b[0m \u001b[1m2s\u001b[0m 9ms/step - loss: 34342027264.0000 - val_loss: 56786112512.0000\n",
      "Epoch 6/50\n",
      "\u001b[1m272/272\u001b[0m \u001b[32m━━━━━━━━━━━━━━━━━━━━\u001b[0m\u001b[37m\u001b[0m \u001b[1m2s\u001b[0m 9ms/step - loss: 33697259520.0000 - val_loss: 56783605760.0000\n",
      "Epoch 7/50\n",
      "\u001b[1m272/272\u001b[0m \u001b[32m━━━━━━━━━━━━━━━━━━━━\u001b[0m\u001b[37m\u001b[0m \u001b[1m2s\u001b[0m 8ms/step - loss: 34473594880.0000 - val_loss: 56781090816.0000\n",
      "Epoch 8/50\n",
      "\u001b[1m272/272\u001b[0m \u001b[32m━━━━━━━━━━━━━━━━━━━━\u001b[0m\u001b[37m\u001b[0m \u001b[1m2s\u001b[0m 9ms/step - loss: 34217908224.0000 - val_loss: 56778567680.0000\n",
      "Epoch 9/50\n",
      "\u001b[1m272/272\u001b[0m \u001b[32m━━━━━━━━━━━━━━━━━━━━\u001b[0m\u001b[37m\u001b[0m \u001b[1m2s\u001b[0m 9ms/step - loss: 33482299392.0000 - val_loss: 56776065024.0000\n",
      "Epoch 10/50\n",
      "\u001b[1m272/272\u001b[0m \u001b[32m━━━━━━━━━━━━━━━━━━━━\u001b[0m\u001b[37m\u001b[0m \u001b[1m3s\u001b[0m 10ms/step - loss: 34065664000.0000 - val_loss: 56773541888.0000\n",
      "Epoch 11/50\n",
      "\u001b[1m272/272\u001b[0m \u001b[32m━━━━━━━━━━━━━━━━━━━━\u001b[0m\u001b[37m\u001b[0m \u001b[1m3s\u001b[0m 9ms/step - loss: 34247305216.0000 - val_loss: 56771026944.0000\n",
      "Epoch 12/50\n",
      "\u001b[1m272/272\u001b[0m \u001b[32m━━━━━━━━━━━━━━━━━━━━\u001b[0m\u001b[37m\u001b[0m \u001b[1m2s\u001b[0m 9ms/step - loss: 34055614464.0000 - val_loss: 56768516096.0000\n",
      "Epoch 13/50\n",
      "\u001b[1m272/272\u001b[0m \u001b[32m━━━━━━━━━━━━━━━━━━━━\u001b[0m\u001b[37m\u001b[0m \u001b[1m2s\u001b[0m 9ms/step - loss: 34124746752.0000 - val_loss: 56766005248.0000\n",
      "Epoch 14/50\n",
      "\u001b[1m272/272\u001b[0m \u001b[32m━━━━━━━━━━━━━━━━━━━━\u001b[0m\u001b[37m\u001b[0m \u001b[1m2s\u001b[0m 9ms/step - loss: 34059075584.0000 - val_loss: 56763490304.0000\n",
      "Epoch 15/50\n",
      "\u001b[1m272/272\u001b[0m \u001b[32m━━━━━━━━━━━━━━━━━━━━\u001b[0m\u001b[37m\u001b[0m \u001b[1m2s\u001b[0m 9ms/step - loss: 33825443840.0000 - val_loss: 56760963072.0000\n",
      "Epoch 16/50\n",
      "\u001b[1m272/272\u001b[0m \u001b[32m━━━━━━━━━━━━━━━━━━━━\u001b[0m\u001b[37m\u001b[0m \u001b[1m2s\u001b[0m 9ms/step - loss: 34033696768.0000 - val_loss: 56758460416.0000\n",
      "Epoch 17/50\n",
      "\u001b[1m272/272\u001b[0m \u001b[32m━━━━━━━━━━━━━━━━━━━━\u001b[0m\u001b[37m\u001b[0m \u001b[1m2s\u001b[0m 9ms/step - loss: 34354395136.0000 - val_loss: 56755941376.0000\n",
      "Epoch 18/50\n",
      "\u001b[1m272/272\u001b[0m \u001b[32m━━━━━━━━━━━━━━━━━━━━\u001b[0m\u001b[37m\u001b[0m \u001b[1m2s\u001b[0m 9ms/step - loss: 34393190400.0000 - val_loss: 56753438720.0000\n",
      "Epoch 19/50\n",
      "\u001b[1m272/272\u001b[0m \u001b[32m━━━━━━━━━━━━━━━━━━━━\u001b[0m\u001b[37m\u001b[0m \u001b[1m2s\u001b[0m 9ms/step - loss: 33961095168.0000 - val_loss: 56750919680.0000\n",
      "Epoch 20/50\n",
      "\u001b[1m272/272\u001b[0m \u001b[32m━━━━━━━━━━━━━━━━━━━━\u001b[0m\u001b[37m\u001b[0m \u001b[1m2s\u001b[0m 9ms/step - loss: 34552393728.0000 - val_loss: 56748396544.0000\n",
      "Epoch 21/50\n",
      "\u001b[1m272/272\u001b[0m \u001b[32m━━━━━━━━━━━━━━━━━━━━\u001b[0m\u001b[37m\u001b[0m \u001b[1m2s\u001b[0m 9ms/step - loss: 34327773184.0000 - val_loss: 56745893888.0000\n",
      "Epoch 22/50\n",
      "\u001b[1m272/272\u001b[0m \u001b[32m━━━━━━━━━━━━━━━━━━━━\u001b[0m\u001b[37m\u001b[0m \u001b[1m2s\u001b[0m 9ms/step - loss: 34910527488.0000 - val_loss: 56743378944.0000\n",
      "Epoch 23/50\n",
      "\u001b[1m272/272\u001b[0m \u001b[32m━━━━━━━━━━━━━━━━━━━━\u001b[0m\u001b[37m\u001b[0m \u001b[1m2s\u001b[0m 9ms/step - loss: 34295977984.0000 - val_loss: 56740876288.0000\n",
      "Epoch 24/50\n",
      "\u001b[1m272/272\u001b[0m \u001b[32m━━━━━━━━━━━━━━━━━━━━\u001b[0m\u001b[37m\u001b[0m \u001b[1m2s\u001b[0m 9ms/step - loss: 34240258048.0000 - val_loss: 56738369536.0000\n",
      "Epoch 25/50\n",
      "\u001b[1m272/272\u001b[0m \u001b[32m━━━━━━━━━━━━━━━━━━━━\u001b[0m\u001b[37m\u001b[0m \u001b[1m2s\u001b[0m 9ms/step - loss: 33673981952.0000 - val_loss: 56735850496.0000\n",
      "Epoch 26/50\n",
      "\u001b[1m272/272\u001b[0m \u001b[32m━━━━━━━━━━━━━━━━━━━━\u001b[0m\u001b[37m\u001b[0m \u001b[1m2s\u001b[0m 9ms/step - loss: 34116483072.0000 - val_loss: 56733347840.0000\n",
      "Epoch 27/50\n",
      "\u001b[1m272/272\u001b[0m \u001b[32m━━━━━━━━━━━━━━━━━━━━\u001b[0m\u001b[37m\u001b[0m \u001b[1m2s\u001b[0m 9ms/step - loss: 34426044416.0000 - val_loss: 56730832896.0000\n",
      "Epoch 28/50\n",
      "\u001b[1m272/272\u001b[0m \u001b[32m━━━━━━━━━━━━━━━━━━━━\u001b[0m\u001b[37m\u001b[0m \u001b[1m2s\u001b[0m 9ms/step - loss: 34099994624.0000 - val_loss: 56728305664.0000\n",
      "Epoch 29/50\n",
      "\u001b[1m272/272\u001b[0m \u001b[32m━━━━━━━━━━━━━━━━━━━━\u001b[0m\u001b[37m\u001b[0m \u001b[1m2s\u001b[0m 9ms/step - loss: 34412560384.0000 - val_loss: 56725803008.0000\n",
      "Epoch 30/50\n",
      "\u001b[1m272/272\u001b[0m \u001b[32m━━━━━━━━━━━━━━━━━━━━\u001b[0m\u001b[37m\u001b[0m \u001b[1m3s\u001b[0m 9ms/step - loss: 34336116736.0000 - val_loss: 56723300352.0000\n",
      "Epoch 31/50\n",
      "\u001b[1m272/272\u001b[0m \u001b[32m━━━━━━━━━━━━━━━━━━━━\u001b[0m\u001b[37m\u001b[0m \u001b[1m2s\u001b[0m 9ms/step - loss: 34016724992.0000 - val_loss: 56720777216.0000\n",
      "Epoch 32/50\n",
      "\u001b[1m272/272\u001b[0m \u001b[32m━━━━━━━━━━━━━━━━━━━━\u001b[0m\u001b[37m\u001b[0m \u001b[1m2s\u001b[0m 9ms/step - loss: 34133841920.0000 - val_loss: 56718278656.0000\n",
      "Epoch 33/50\n",
      "\u001b[1m272/272\u001b[0m \u001b[32m━━━━━━━━━━━━━━━━━━━━\u001b[0m\u001b[37m\u001b[0m \u001b[1m2s\u001b[0m 9ms/step - loss: 34393075712.0000 - val_loss: 56715763712.0000\n",
      "Epoch 34/50\n",
      "\u001b[1m272/272\u001b[0m \u001b[32m━━━━━━━━━━━━━━━━━━━━\u001b[0m\u001b[37m\u001b[0m \u001b[1m2s\u001b[0m 9ms/step - loss: 33932732416.0000 - val_loss: 56713256960.0000\n",
      "Epoch 35/50\n",
      "\u001b[1m272/272\u001b[0m \u001b[32m━━━━━━━━━━━━━━━━━━━━\u001b[0m\u001b[37m\u001b[0m \u001b[1m2s\u001b[0m 9ms/step - loss: 33841551360.0000 - val_loss: 56710733824.0000\n",
      "Epoch 36/50\n",
      "\u001b[1m272/272\u001b[0m \u001b[32m━━━━━━━━━━━━━━━━━━━━\u001b[0m\u001b[37m\u001b[0m \u001b[1m2s\u001b[0m 9ms/step - loss: 34318340096.0000 - val_loss: 56708227072.0000\n",
      "Epoch 37/50\n",
      "\u001b[1m272/272\u001b[0m \u001b[32m━━━━━━━━━━━━━━━━━━━━\u001b[0m\u001b[37m\u001b[0m \u001b[1m2s\u001b[0m 9ms/step - loss: 34311737344.0000 - val_loss: 56705699840.0000\n",
      "Epoch 38/50\n",
      "\u001b[1m272/272\u001b[0m \u001b[32m━━━━━━━━━━━━━━━━━━━━\u001b[0m\u001b[37m\u001b[0m \u001b[1m2s\u001b[0m 9ms/step - loss: 34083981312.0000 - val_loss: 56703197184.0000\n",
      "Epoch 39/50\n",
      "\u001b[1m272/272\u001b[0m \u001b[32m━━━━━━━━━━━━━━━━━━━━\u001b[0m\u001b[37m\u001b[0m \u001b[1m3s\u001b[0m 9ms/step - loss: 34257842176.0000 - val_loss: 56700694528.0000\n",
      "Epoch 40/50\n",
      "\u001b[1m272/272\u001b[0m \u001b[32m━━━━━━━━━━━━━━━━━━━━\u001b[0m\u001b[37m\u001b[0m \u001b[1m2s\u001b[0m 9ms/step - loss: 34353926144.0000 - val_loss: 56698179584.0000\n",
      "Epoch 41/50\n",
      "\u001b[1m272/272\u001b[0m \u001b[32m━━━━━━━━━━━━━━━━━━━━\u001b[0m\u001b[37m\u001b[0m \u001b[1m2s\u001b[0m 9ms/step - loss: 33909071872.0000 - val_loss: 56695660544.0000\n",
      "Epoch 42/50\n",
      "\u001b[1m272/272\u001b[0m \u001b[32m━━━━━━━━━━━━━━━━━━━━\u001b[0m\u001b[37m\u001b[0m \u001b[1m3s\u001b[0m 10ms/step - loss: 34333011968.0000 - val_loss: 56693157888.0000\n",
      "Epoch 43/50\n",
      "\u001b[1m272/272\u001b[0m \u001b[32m━━━━━━━━━━━━━━━━━━━━\u001b[0m\u001b[37m\u001b[0m \u001b[1m2s\u001b[0m 9ms/step - loss: 33776201728.0000 - val_loss: 56690642944.0000\n",
      "Epoch 44/50\n",
      "\u001b[1m272/272\u001b[0m \u001b[32m━━━━━━━━━━━━━━━━━━━━\u001b[0m\u001b[37m\u001b[0m \u001b[1m2s\u001b[0m 9ms/step - loss: 34353809408.0000 - val_loss: 56688132096.0000\n",
      "Epoch 45/50\n",
      "\u001b[1m272/272\u001b[0m \u001b[32m━━━━━━━━━━━━━━━━━━━━\u001b[0m\u001b[37m\u001b[0m \u001b[1m2s\u001b[0m 9ms/step - loss: 33714792448.0000 - val_loss: 56685633536.0000\n",
      "Epoch 46/50\n",
      "\u001b[1m272/272\u001b[0m \u001b[32m━━━━━━━━━━━━━━━━━━━━\u001b[0m\u001b[37m\u001b[0m \u001b[1m2s\u001b[0m 9ms/step - loss: 33988917248.0000 - val_loss: 56683106304.0000\n",
      "Epoch 47/50\n",
      "\u001b[1m272/272\u001b[0m \u001b[32m━━━━━━━━━━━━━━━━━━━━\u001b[0m\u001b[37m\u001b[0m \u001b[1m2s\u001b[0m 9ms/step - loss: 34047477760.0000 - val_loss: 56680615936.0000\n",
      "Epoch 48/50\n",
      "\u001b[1m272/272\u001b[0m \u001b[32m━━━━━━━━━━━━━━━━━━━━\u001b[0m\u001b[37m\u001b[0m \u001b[1m2s\u001b[0m 9ms/step - loss: 33756653568.0000 - val_loss: 56678088704.0000\n",
      "Epoch 49/50\n",
      "\u001b[1m272/272\u001b[0m \u001b[32m━━━━━━━━━━━━━━━━━━━━\u001b[0m\u001b[37m\u001b[0m \u001b[1m2s\u001b[0m 9ms/step - loss: 34170157056.0000 - val_loss: 56675577856.0000\n",
      "Epoch 50/50\n",
      "\u001b[1m272/272\u001b[0m \u001b[32m━━━━━━━━━━━━━━━━━━━━\u001b[0m\u001b[37m\u001b[0m \u001b[1m3s\u001b[0m 9ms/step - loss: 34304389120.0000 - val_loss: 56673079296.0000\n"
     ]
    },
    {
     "data": {
      "image/png": "[encoded data removed]",
      "text/plain": [
       "<Figure size 640x480 with 1 Axes>"
      ]
     },
     "metadata": {},
     "output_type": "display_data"
    }
   ],
   "source": [
    "history = model_lstm.fit(\n",
    "    X_train_lstm, y_train_lstm,\n",
    "    validation_data=(X_val_lstm, y_val_lstm),\n",
    "    epochs=50,\n",
    "    batch_size=64,\n",
    "    verbose=1\n",
    ")\n",
    "\n",
    "# Plot training curve\n",
    "plt.plot(history.history['loss'], label='train_loss')\n",
    "plt.plot(history.history['val_loss'], label='val_loss')\n",
    "plt.legend()\n",
    "plt.title(\"LSTM Training Curve\")\n",
    "plt.show()\n"
   ]
  },
  {
   "cell_type": "markdown",
   "id": "9a413217-ad7b-4f4d-8fc5-bdd2ee4be54b",
   "metadata": {},
   "source": [
    "## Test Set Evaluation"
   ]
  },
  {
   "cell_type": "code",
   "execution_count": 89,
   "id": "3647ceff-e76f-4e40-b51b-876a84b8ea4c",
   "metadata": {},
   "outputs": [
    {
     "name": "stdout",
     "output_type": "stream",
     "text": [
      "\u001b[1m365/365\u001b[0m \u001b[32m━━━━━━━━━━━━━━━━━━━━\u001b[0m\u001b[37m\u001b[0m \u001b[1m1s\u001b[0m 3ms/step\n",
      "LSTM - RMSE (Test): 237772.85\n",
      "LSTM - MAE  (Test): 224280.79\n"
     ]
    },
    {
     "name": "stderr",
     "output_type": "stream",
     "text": [
      "C:\\Users\\luisj\\anaconda3\\Lib\\site-packages\\sklearn\\metrics\\_regression.py:492: FutureWarning: 'squared' is deprecated in version 1.4 and will be removed in 1.6. To calculate the root mean squared error, use the function'root_mean_squared_error'.\n",
      "  warnings.warn(\n"
     ]
    }
   ],
   "source": [
    "test_pred_lstm = model_lstm.predict(X_test_lstm)\n",
    "\n",
    "rmse_lstm = mean_squared_error(y_test_lstm, test_pred_lstm, squared=False)\n",
    "mae_lstm = mean_absolute_error(y_test_lstm, test_pred_lstm)\n",
    "\n",
    "print(f\"LSTM - RMSE (Test): {rmse_lstm:.2f}\")\n",
    "print(f\"LSTM - MAE  (Test): {mae_lstm:.2f}\")\n"
   ]
  },
  {
   "cell_type": "markdown",
   "id": "938abbeb-bb3a-4305-96c6-ecb943c38aaf",
   "metadata": {},
   "source": [
    "## Result Analysis \n",
    "- For LSTM: RMSE (Test): 237772.85  and MAE  (Test): 224280.79\n",
    "- For XGBoost: RMSE (Test): 8742.59  and MAE (Test): 5875.24\n",
    "\n",
    "An RMSE (Root Mean Squared Error) of 237772.85 for the LSTM means, on average, LSTM predictions deviate from the true values by that magnitude. In contrast, an RMSE of 874259 for XGBoost indicates it is making much more accurate predictions.\n",
    "The MAE (Mean Absolute Error) of 224280.79 for LSTM vs. 587524 for XGBoost further confirms the large discrepancy. The LSTM is performing poorly (large errors) compared to XGBoost (relatively smaller errors). So for this type of projects the XGBoost could be considered a better model to use. In addition, LSTM model could be improved and hope to obtain better results by using data scaling, correct the overfitting or underfitting and adjusting the model accordinlgy  to get a better tuning.  \n"
   ]
  },
  {
   "cell_type": "code",
   "execution_count": null,
   "id": "3b45a41b-e6ed-4c94-947a-0497cce7b6f9",
   "metadata": {},
   "outputs": [],
   "source": []
  }
 ],
 "metadata": {
  "kernelspec": {
   "display_name": "Python [conda env:base] *",
   "language": "python",
   "name": "conda-base-py"
  },
  "language_info": {
   "codemirror_mode": {
    "name": "ipython",
    "version": 3
   },
   "file_extension": ".py",
   "mimetype": "text/x-python",
   "name": "python",
   "nbconvert_exporter": "python",
   "pygments_lexer": "ipython3",
   "version": "3.12.7"
  }
 },
 "nbformat": 4,
 "nbformat_minor": 5
}
